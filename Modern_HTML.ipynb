{
  "nbformat": 4,
  "nbformat_minor": 0,
  "metadata": {
    "colab": {
      "provenance": []
    },
    "kernelspec": {
      "name": "python3",
      "display_name": "Python 3"
    },
    "language_info": {
      "name": "python"
    }
  },
  "cells": [
    {
      "cell_type": "markdown",
      "source": [
        "# Modern HTML"
      ],
      "metadata": {
        "id": "6l2UaewcbDho"
      }
    },
    {
      "cell_type": "markdown",
      "source": [
        "1. List out the features of HTML5\n",
        "\n",
        "   -> Here are the key features of HTML5:\n",
        "\n",
        "- Header (`<header>`)\n",
        "\n",
        "- Footer (`<footer>`)\n",
        "\n",
        "- Navigation (`<nav>`)\n",
        "\n",
        "- Main (`<main>`)\n",
        "\n",
        "- Section (`<section>`)\n",
        "\n",
        "- Article (`<article>`)\n",
        "\n",
        "- Aside (`<aside>`)\n",
        "\n",
        "- Figure (`<figure>`)\n",
        "\n",
        "- Video (`<video>`)\n",
        "\n",
        "- Audio (`<audio>`)\n",
        "\n",
        "- Canvas (`<canvas>`)\n",
        "\n",
        "- SVG (`<svg>`)\n"
      ],
      "metadata": {
        "id": "0Ruh5RxdbMXn"
      }
    },
    {
      "cell_type": "markdown",
      "source": [
        "2.\tWhat are HTML Entities? List out 5 commonly used HTML entities\n",
        "\n",
        "    -> HTML entities are special characters that are used to represent characters that have special meanings in HTML. They are represented by a sequence of characters that starts with an ampersand (&) and ends with a semicolon (;). HTML entities are used to:\n",
        "\n",
        "Here are 5 commonly used HTML entities:\n",
        "\n",
        "- &lt; : Represents the less-than symbol (<)\n",
        "- &gt; : Represents the greater-than symbol (>)\n",
        "- &amp; : Represents the ampersand symbol (&)\n",
        "- &quot; : Represents the double quote symbol (\"\")\n",
        "- &copy; : Represents the copyright symbol\n"
      ],
      "metadata": {
        "id": "YC93g8y0cFv3"
      }
    },
    {
      "cell_type": "markdown",
      "source": [
        "3.\tDefine accessibility in the context of web development. Discuss why it's essential to create accessible websites and how it benefits different user groups\n",
        "\n",
        "    -> Accessibility in web development refers to the practice of designing and building websites that are usable by people of all abilities, including those with disabilities, language limitations, and other accessibility needs. This involves creating content that is perceivable, operable, understandable, and robust, ensuring equal access to information and opportunities for everyone.\n",
        "\n",
        "Why Accessibility Matters\n",
        "\n",
        "- Equal Access: Accessibility ensures that people with disabilities can access and use online resources, services, and information, promoting equal opportunities and social inclusion.\n",
        "- Broader Audience: Accessible websites can reach a wider audience, including older adults, people with temporary disabilities, and those using assistive technologies.\n",
        "- Improved User Experience: Accessibility features, such as clear navigation and consistent design, can enhance the overall user experience for everyone.\n",
        "- Compliance with Regulations: Many countries have laws and regulations requiring websites to be accessible, such as the Americans with Disabilities Act (ADA) in the United States.\n",
        "\n",
        "Benefits for Different User Groups\n",
        "\n",
        "- People with Disabilities: Accessible websites enable individuals with disabilities, such as visual, auditory, motor, or cognitive disabilities, to use and navigate online content independently.\n",
        "- Older Adults: Accessible websites can help older adults with age-related disabilities, such as decreased vision or dexterity, to access online information and services.\n",
        "- People with Temporary Disabilities: Accessible websites can assist individuals with temporary disabilities, such as a broken arm or concussion, to continue using online resources during their recovery.\n",
        "- Mobile and Tablet Users: Accessible websites can improve the user experience for mobile and tablet users, who may face challenges with screen size, navigation, and content layout.\n",
        "- Search Engines and Bots: Accessible websites can also improve search engine optimization (SEO), as search engines like Google can more easily crawl and index accessible content.\n"
      ],
      "metadata": {
        "id": "NRLXuhRocViv"
      }
    },
    {
      "cell_type": "markdown",
      "source": [
        "4.\tList any 3 ways which help us in improving the accessibility of HTML\n",
        "\n",
        "    -> Here are three ways to improve the accessibility of HTML:\n",
        "\n",
        "- Provide Alternative Text for Images:-\n",
        "Using the `alt` attribute, provide alternative text for images. This allows screen readers to describe the image to visually impaired users.\n",
        "\n",
        "- Use Semantic HTML Elements:-\n",
        "Use semantic HTML elements to provide meaning to the structure of your content. This helps screen readers and other assistive technologies to understand the context and organization of your content.\n",
        "\n",
        "- Use ARIA Attributes for Dynamic Content:-\n",
        "Use ARIA (Accessible Rich Internet Applications) attributes to provide accessibility information for dynamic content, such as JavaScript-generated elements or widgets.\n"
      ],
      "metadata": {
        "id": "gsbJyXgrcfq_"
      }
    },
    {
      "cell_type": "code",
      "source": [
        "\"\"\" 5.\tCreate a web page that highlights the features of HTML5. Use appropriate semantic tags to structure the content and showcase at least three key features of HTML5 with explanations  \"\"\"\n",
        "\n",
        "<!DOCTYPE html>\n",
        "<head>\n",
        "    <title>HTML5 Features</title>\n",
        "    <link rel=\"stylesheet\" href=\"styles.css\">\n",
        "</head>\n",
        "<body>\n",
        "    <header>\n",
        "        <h1>HTML5 Features</h1>\n",
        "    </header>\n",
        "    <nav>\n",
        "        <ul>\n",
        "            <li><a href=\"#semantic-elements\">Semantic Elements</a></li>\n",
        "            <li><a href=\"#canvas-element\">Canvas Element</a></li>\n",
        "            <li><a href=\"#video-element\">Video Element</a></li>\n",
        "        </ul>\n",
        "    </nav>\n",
        "    <main>\n",
        "        <section>\n",
        "            <h2>Semantic Elements</h2>\n",
        "            <p>HTML5 introduces new semantic elements that provide better structure to web pages. These elements include header, nav, main, section, article, aside, and footer.</p>\n",
        "            <code>&lt;header&gt;, &lt;nav&gt;, &lt;main&gt;, &lt;section&gt;, &lt;article&gt;, &lt;aside&gt;, &lt;footer&gt;</code>\n",
        "        </section>\n",
        "        <section>\n",
        "            <h2>Canvas Element</h2>\n",
        "            <p>The canvas element allows developers to create dynamic graphics and animations using JavaScript. It provides a resolution-dependent bitmap canvas, which can be used for rendering graphs, game graphics, or other visual images on the fly.</p>\n",
        "            <canvas id=\"myCanvas\" width=\"400\" height=\"200\"></canvas>\n",
        "            <script>\n",
        "                var canvas = document.getElementById(\"myCanvas\");\n",
        "                var ctx = canvas.getContext(\"2d\");\n",
        "                ctx.fillStyle = \"red\";\n",
        "                ctx.fillRect(50, 50, 100, 100);\n",
        "            </script>\n",
        "        </section>\n",
        "        <section>\n",
        "            <h2>Video Element</h2>\n",
        "            <p>The video element allows developers to embed video content directly into web pages without the need for third-party plugins. It supports multiple video formats, including MP4, WebM, and Ogg.</p>\n",
        "            <video width=\"400\" controls>\n",
        "                <source src=\"video.mp4\" type=\"video/mp4\" autoplay mute>\n",
        "                Your browser does not support the video tag.\n",
        "            </video>\n",
        "        </section>\n",
        "    </main>\n",
        "    <footer>\n",
        "        <p>&copy; Earlier HTML5 Features</p>\n",
        "    </footer>\n",
        "</body>\n",
        "</html>\n"
      ],
      "metadata": {
        "id": "86EXLL8XdoXf"
      },
      "execution_count": null,
      "outputs": []
    },
    {
      "cell_type": "code",
      "source": [
        "\"\"\" 6.\tCreate a simple web page which has a table. The table must have 2 columns HTML and HTML5. The table should include a minimum of three rows describing the differences between HTML and HTML5. \"\"\"\n",
        "\n",
        "<!DOCTYPE html>\n",
        "<head>\n",
        "    <title>HTML vs HTML5</title>\n",
        "</head>\n",
        "<body>\n",
        "    <h1>HTML vs HTML5</h1>\n",
        "    <table border=\"1\" cellpadding=\"8\">\n",
        "        <tr>\n",
        "            <th>Feature</th>\n",
        "            <th>HTML</th>\n",
        "            <th>HTML5</th>\n",
        "        </tr>\n",
        "        <tr>\n",
        "            <td>Video Support</td>\n",
        "            <td>Requires third-party plugins (e.g., Flash)</td>\n",
        "            <td>Native video support using the &lt;video&gt; element</td>\n",
        "        </tr>\n",
        "        <tr>\n",
        "            <td>Semantic Elements</td>\n",
        "            <td>Limited semantic elements (e.g., &lt;h1&gt;-&lt;h6&gt;, &lt;p&gt;)</td>\n",
        "            <td>New semantic elements (e.g., &lt;header&gt;, &lt;nav&gt;, &lt;footer&gt;)</td>\n",
        "        </tr>\n",
        "        <tr>\n",
        "            <td>Offline Storage</td>\n",
        "            <td>Limited offline storage capabilities</td>\n",
        "            <td>Improved offline storage using localStorage and sessionStorage</td>\n",
        "        </tr>\n",
        "    </table>\n",
        "</body>\n",
        "</html>\n"
      ],
      "metadata": {
        "id": "gzXxC6Ecd3Ff"
      },
      "execution_count": null,
      "outputs": []
    },
    {
      "cell_type": "markdown",
      "source": [],
      "metadata": {
        "id": "QawFVAibb1YX"
      }
    },
    {
      "cell_type": "code",
      "execution_count": null,
      "metadata": {
        "id": "957Kdnb8bCTZ"
      },
      "outputs": [],
      "source": []
    }
  ]
}